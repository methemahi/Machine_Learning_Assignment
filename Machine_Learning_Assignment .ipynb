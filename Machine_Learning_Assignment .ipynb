{
  "cells": [
    {
      "cell_type": "markdown",
      "id": "34c5e5ef",
      "metadata": {
        "id": "34c5e5ef"
      },
      "source": [
        "### Question 1: Explain the differences between AI, ML, Deep Learning (DL), and Data Science (DS).\n",
        "\n",
        "Artificial Intelligence (AI) is a broad field that focuses on building systems that mimic human intelligence. Machine Learning (ML) is a subset of AI where models learn from data. Deep Learning (DL) is a specialized area of ML using neural networks with multiple layers. Data Science (DS) involves extracting insights from data using statistics, ML, and domain knowledge."
      ]
    },
    {
      "cell_type": "markdown",
      "id": "595c2199",
      "metadata": {
        "id": "595c2199"
      },
      "source": [
        "### Question 2: What are the types of machine learning? Describe each with one real-world example.\n",
        "\n",
        "There are three types of ML: Supervised Learning (predicting house prices), Unsupervised Learning (customer segmentation), and Reinforcement Learning (training robots to walk). Supervised uses labeled data, unsupervised uses unlabeled data to find patterns, and reinforcement learns through rewards and penalties."
      ]
    },
    {
      "cell_type": "markdown",
      "id": "13944732",
      "metadata": {
        "id": "13944732"
      },
      "source": [
        "### Question 3: Define overfitting, underfitting, and the bias-variance tradeoff in machine learning.\n",
        "\n",
        "Overfitting occurs when a model learns noise and performs poorly on new data. Underfitting happens when the model is too simple and fails to capture patterns. Bias-variance tradeoff balances model simplicity (bias) and complexity (variance) to achieve optimal generalization."
      ]
    },
    {
      "cell_type": "markdown",
      "id": "cba592c8",
      "metadata": {
        "id": "cba592c8"
      },
      "source": [
        "### Question 4: What are outliers in a dataset, and list three common techniques for handling them.\n",
        "\n",
        "Outliers are extreme values that deviate from most observations in data. They can distort analysis and model training. Common handling techniques include: 1) Removing outliers, 2) Transforming values (e.g., log-scaling), 3) Imputing values using median or mean."
      ]
    },
    {
      "cell_type": "markdown",
      "id": "b25259d2",
      "metadata": {
        "id": "b25259d2"
      },
      "source": [
        "### Question 5: Explain the process of handling missing values and mention one imputation technique for numerical and one for categorical data.\n",
        "\n",
        "Missing values can bias results. Handling includes deletion, imputation, or predictive methods. For numerical data, mean/median imputation is common. For categorical data, mode imputation (filling missing with most frequent category) is widely used."
      ]
    },
    {
      "cell_type": "code",
      "source": [
        "#Question 6: Write a Python program that creates an imbalanced dataset and prints class distribution\n",
        "from sklearn.datasets import make_classification\n",
        "import numpy as np\n",
        "from collections import Counter\n",
        "\n",
        "X, y = make_classification(n_samples=1000, n_features=5, n_classes=2,\n",
        "                           weights=[0.9, 0.1], random_state=42)\n",
        "print(\"Class distribution:\", Counter(y))"
      ],
      "metadata": {
        "colab": {
          "base_uri": "https://localhost:8080/"
        },
        "id": "Kz1H9jvDXkDk",
        "outputId": "4fcdaf06-e532-45cb-83bb-e7112f0e1c46"
      },
      "id": "Kz1H9jvDXkDk",
      "execution_count": 1,
      "outputs": [
        {
          "output_type": "stream",
          "name": "stdout",
          "text": [
            "Class distribution: Counter({np.int64(0): 895, np.int64(1): 105})\n"
          ]
        }
      ]
    },
    {
      "cell_type": "code",
      "source": [
        "#Question 7: Implement one-hot encoding using pandas for the list of colors.\n",
        "import pandas as pd\n",
        "\n",
        "colors = ['Red', 'Green', 'Blue', 'Green', 'Red']\n",
        "df = pd.DataFrame(colors, columns=['Color'])\n",
        "encoded = pd.get_dummies(df, columns=['Color'])\n",
        "print(encoded)"
      ],
      "metadata": {
        "colab": {
          "base_uri": "https://localhost:8080/"
        },
        "id": "n389BeGKXy5W",
        "outputId": "b9a5d009-1d17-4aca-a8d0-4d5b2cf360e9"
      },
      "id": "n389BeGKXy5W",
      "execution_count": 2,
      "outputs": [
        {
          "output_type": "stream",
          "name": "stdout",
          "text": [
            "   Color_Blue  Color_Green  Color_Red\n",
            "0       False        False       True\n",
            "1       False         True      False\n",
            "2        True        False      False\n",
            "3       False         True      False\n",
            "4       False        False       True\n"
          ]
        }
      ]
    },
    {
      "cell_type": "code",
      "source": [
        "#Question 8: Write a Python script for generating samples, adding missing values, imputing, and plotting.\n",
        "import numpy as np\n",
        "import pandas as pd\n",
        "import matplotlib.pyplot as plt\n",
        "\n",
        "# Generate samples\n",
        "data = np.random.normal(0, 1, 1000)\n",
        "df = pd.DataFrame(data, columns=['Value'])\n",
        "\n",
        "# Introduce 50 missing values\n",
        "nan_indices = np.random.choice(df.index, 50, replace=False)\n",
        "df.loc[nan_indices, 'Value'] = np.nan\n",
        "\n",
        "# Plot before imputation\n",
        "df['Value'].hist(bins=30)\n",
        "plt.title(\"Before Imputation\")\n",
        "plt.show()\n",
        "\n",
        "# Impute with mean\n",
        "df['Value'].fillna(df['Value'].mean(), inplace=True)\n",
        "\n",
        "# Plot after imputation\n",
        "df['Value'].hist(bins=30)\n",
        "plt.title(\"After Imputation\")\n",
        "plt.show()"
      ],
      "metadata": {
        "colab": {
          "base_uri": "https://localhost:8080/",
          "height": 1000
        },
        "id": "Qin6KprwX9Cu",
        "outputId": "019246bf-101c-4ead-dcd7-a226e8966ddb"
      },
      "id": "Qin6KprwX9Cu",
      "execution_count": 3,
      "outputs": [
        {
          "output_type": "display_data",
          "data": {
            "text/plain": [
              "<Figure size 640x480 with 1 Axes>"
            ],
            "image/png": "[encoded data removed]"
          },
          "metadata": {}
        },
        {
          "output_type": "stream",
          "name": "stderr",
          "text": [
            "/tmp/ipython-input-3198751765.py:20: FutureWarning: A value is trying to be set on a copy of a DataFrame or Series through chained assignment using an inplace method.\n",
            "The behavior will change in pandas 3.0. This inplace method will never work because the intermediate object on which we are setting values always behaves as a copy.\n",
            "\n",
            "For example, when doing 'df[col].method(value, inplace=True)', try using 'df.method({col: value}, inplace=True)' or df[col] = df[col].method(value) instead, to perform the operation inplace on the original object.\n",
            "\n",
            "\n",
            "  df['Value'].fillna(df['Value'].mean(), inplace=True)\n"
          ]
        },
        {
          "output_type": "display_data",
          "data": {
            "text/plain": [
              "<Figure size 640x480 with 1 Axes>"
            ],
            "image/png": "[encoded data removed]"
          },
          "metadata": {}
        }
      ]
    },
    {
      "cell_type": "code",
      "source": [
        "#Question 9: Implement Min-Max scaling on the list of numbers\n",
        "from sklearn.preprocessing import MinMaxScaler\n",
        "import numpy as np\n",
        "\n",
        "data = np.array([[2], [5], [10], [15], [20]])\n",
        "scaler = MinMaxScaler()\n",
        "scaled = scaler.fit_transform(data)\n",
        "print(\"Scaled values:\\n\", scaled)"
      ],
      "metadata": {
        "colab": {
          "base_uri": "https://localhost:8080/"
        },
        "id": "uzlHKOH5Yb9i",
        "outputId": "985c24f7-4425-44c6-f0a8-b7ad79ca63f5"
      },
      "id": "uzlHKOH5Yb9i",
      "execution_count": 4,
      "outputs": [
        {
          "output_type": "stream",
          "name": "stdout",
          "text": [
            "Scaled values:\n",
            " [[0.        ]\n",
            " [0.16666667]\n",
            " [0.44444444]\n",
            " [0.72222222]\n",
            " [1.        ]]\n"
          ]
        }
      ]
    },
    {
      "cell_type": "markdown",
      "id": "8ee8140c",
      "metadata": {
        "id": "8ee8140c"
      },
      "source": [
        "### Question 10: Data preparation plan for retail dataset.\n",
        "\n",
        "Step 1: Handle missing ages using mean/median imputation. Step 2: Treat outliers in transaction amounts using IQR or capping. Step 3: Address imbalance with oversampling (SMOTE) or undersampling. Step 4: Encode categorical variables like payment method using one-hot encoding. Step 5: Normalize features before training the ML model."
      ]
    }
  ],
  "metadata": {
    "colab": {
      "provenance": []
    },
    "language_info": {
      "name": "python"
    },
    "kernelspec": {
      "name": "python3",
      "display_name": "Python 3"
    }
  },
  "nbformat": 4,
  "nbformat_minor": 5
}